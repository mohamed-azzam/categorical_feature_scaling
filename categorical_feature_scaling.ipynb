{
  "nbformat": 4,
  "nbformat_minor": 0,
  "metadata": {
    "colab": {
      "name": "Encoding.ipynb",
      "provenance": [],
      "collapsed_sections": [],
      "toc_visible": true
    },
    "kernelspec": {
      "name": "python3",
      "display_name": "Python 3"
    },
    "language_info": {
      "name": "python"
    }
  },
  "cells": [
    {
      "cell_type": "markdown",
      "metadata": {
        "id": "qPyZWLpytgPI"
      },
      "source": [
        "# Ordinal Encoding"
      ]
    },
    {
      "cell_type": "code",
      "metadata": {
        "id": "n2oNpIGC8vuU"
      },
      "source": [
        "# ordinal encode the breast cancer dataset\n",
        "from pandas import read_csv\n",
        "from sklearn.preprocessing import LabelEncoder\n",
        "from sklearn.preprocessing import OrdinalEncoder\n",
        "from sklearn.preprocessing import LabelBinarizer\n",
        "from sklearn.preprocessing import MultiLabelBinarizer"
      ],
      "execution_count": 80,
      "outputs": []
    },
    {
      "cell_type": "markdown",
      "metadata": {
        "id": "eOy8YZ4B0udH"
      },
      "source": [
        "## E.x 1 (OrdinalEncoder)"
      ]
    },
    {
      "cell_type": "code",
      "metadata": {
        "colab": {
          "base_uri": "https://localhost:8080/"
        },
        "id": "TIikhT_Im6An",
        "outputId": "c1e7a0bc-dfd5-49a7-862d-296380cdcccf"
      },
      "source": [
        "# example of a ordinal encoding\n",
        "from numpy import asarray\n",
        "from sklearn.preprocessing import OrdinalEncoder\n",
        "# define data\n",
        "data = asarray([['red'], ['green'], ['blue']])\n",
        "print(data)\n",
        "# define ordinal encoding\n",
        "encoder = OrdinalEncoder()\n",
        "# transform data\n",
        "result = encoder.fit_transform(data)\n",
        "print(result)"
      ],
      "execution_count": 1,
      "outputs": [
        {
          "output_type": "stream",
          "text": [
            "[['red']\n",
            " ['green']\n",
            " ['blue']]\n",
            "[[2.]\n",
            " [1.]\n",
            " [0.]]\n"
          ],
          "name": "stdout"
        }
      ]
    },
    {
      "cell_type": "markdown",
      "metadata": {
        "id": "l9uSpnmb0xJU"
      },
      "source": [
        "## E.x 2 (OrdinalEncoder)"
      ]
    },
    {
      "cell_type": "code",
      "metadata": {
        "colab": {
          "base_uri": "https://localhost:8080/",
          "height": 266
        },
        "id": "XEcJ1vxx1-Ks",
        "outputId": "33f2966a-f553-4857-d855-a5ebd5d0c330"
      },
      "source": [
        "df = pd.read_csv('/content/test.txt', sep='\\t')\n",
        "df"
      ],
      "execution_count": 109,
      "outputs": [
        {
          "output_type": "execute_result",
          "data": {
            "text/html": [
              "<div>\n",
              "<style scoped>\n",
              "    .dataframe tbody tr th:only-of-type {\n",
              "        vertical-align: middle;\n",
              "    }\n",
              "\n",
              "    .dataframe tbody tr th {\n",
              "        vertical-align: top;\n",
              "    }\n",
              "\n",
              "    .dataframe thead th {\n",
              "        text-align: right;\n",
              "    }\n",
              "</style>\n",
              "<table border=\"1\" class=\"dataframe\">\n",
              "  <thead>\n",
              "    <tr style=\"text-align: right;\">\n",
              "      <th></th>\n",
              "      <th>No</th>\n",
              "      <th>Name</th>\n",
              "      <th>Sex</th>\n",
              "      <th>Blood</th>\n",
              "      <th>Grade</th>\n",
              "      <th>Height</th>\n",
              "      <th>Study</th>\n",
              "      <th>Success</th>\n",
              "      <th>MultiLabel</th>\n",
              "    </tr>\n",
              "  </thead>\n",
              "  <tbody>\n",
              "    <tr>\n",
              "      <th>0</th>\n",
              "      <td>1</td>\n",
              "      <td>Tom</td>\n",
              "      <td>M</td>\n",
              "      <td>O</td>\n",
              "      <td>56</td>\n",
              "      <td>160</td>\n",
              "      <td>Math</td>\n",
              "      <td>yes</td>\n",
              "      <td>High</td>\n",
              "    </tr>\n",
              "    <tr>\n",
              "      <th>1</th>\n",
              "      <td>2</td>\n",
              "      <td>Harry</td>\n",
              "      <td>M</td>\n",
              "      <td>A</td>\n",
              "      <td>76</td>\n",
              "      <td>192</td>\n",
              "      <td>Math</td>\n",
              "      <td>no</td>\n",
              "      <td>Low</td>\n",
              "    </tr>\n",
              "    <tr>\n",
              "      <th>2</th>\n",
              "      <td>3</td>\n",
              "      <td>John</td>\n",
              "      <td>M</td>\n",
              "      <td>A</td>\n",
              "      <td>45</td>\n",
              "      <td>178</td>\n",
              "      <td>English</td>\n",
              "      <td>no</td>\n",
              "      <td>Medium</td>\n",
              "    </tr>\n",
              "    <tr>\n",
              "      <th>3</th>\n",
              "      <td>4</td>\n",
              "      <td>Nancy</td>\n",
              "      <td>F</td>\n",
              "      <td>B</td>\n",
              "      <td>78</td>\n",
              "      <td>157</td>\n",
              "      <td>Biology</td>\n",
              "      <td>yes</td>\n",
              "      <td>High</td>\n",
              "    </tr>\n",
              "    <tr>\n",
              "      <th>4</th>\n",
              "      <td>5</td>\n",
              "      <td>Mike</td>\n",
              "      <td>M</td>\n",
              "      <td>O</td>\n",
              "      <td>79</td>\n",
              "      <td>167</td>\n",
              "      <td>Math</td>\n",
              "      <td>no</td>\n",
              "      <td>Low</td>\n",
              "    </tr>\n",
              "    <tr>\n",
              "      <th>5</th>\n",
              "      <td>6</td>\n",
              "      <td>Kate</td>\n",
              "      <td>F</td>\n",
              "      <td>AB</td>\n",
              "      <td>66</td>\n",
              "      <td>156</td>\n",
              "      <td>English</td>\n",
              "      <td>yes</td>\n",
              "      <td>Medium</td>\n",
              "    </tr>\n",
              "    <tr>\n",
              "      <th>6</th>\n",
              "      <td>7</td>\n",
              "      <td>Mary</td>\n",
              "      <td>F</td>\n",
              "      <td>O</td>\n",
              "      <td>99</td>\n",
              "      <td>166</td>\n",
              "      <td>Science</td>\n",
              "      <td>yes</td>\n",
              "      <td>High</td>\n",
              "    </tr>\n",
              "  </tbody>\n",
              "</table>\n",
              "</div>"
            ],
            "text/plain": [
              "   No   Name Sex Blood  Grade  Height    Study Success MultiLabel\n",
              "0   1    Tom   M     O     56     160     Math     yes       High\n",
              "1   2  Harry   M     A     76     192     Math      no        Low\n",
              "2   3   John   M     A     45     178  English      no     Medium\n",
              "3   4  Nancy   F     B     78     157  Biology     yes       High\n",
              "4   5   Mike   M     O     79     167     Math      no        Low\n",
              "5   6   Kate   F    AB     66     156  English     yes     Medium\n",
              "6   7   Mary   F     O     99     166  Science     yes       High"
            ]
          },
          "metadata": {
            "tags": []
          },
          "execution_count": 109
        }
      ]
    },
    {
      "cell_type": "code",
      "metadata": {
        "colab": {
          "base_uri": "https://localhost:8080/"
        },
        "id": "zivCeGn60847",
        "outputId": "ecbaaacd-40e5-4d35-b557-babcd1da2c9c"
      },
      "source": [
        "# ordinal encode input variables\n",
        "ordinal_encoder = OrdinalEncoder()\n",
        "X = ordinal_encoder.fit_transform(df[['Sex', 'Blood']])\n",
        "print(X)\n",
        "print()\n",
        "# return the original categories\n",
        "print(ordinal_encoder.categories_)\n",
        "print()\n",
        "# inverse the transform\n",
        "print(ordinal_encoder.inverse_transform(X))"
      ],
      "execution_count": 56,
      "outputs": [
        {
          "output_type": "stream",
          "text": [
            "[[1. 3.]\n",
            " [1. 0.]\n",
            " [1. 0.]\n",
            " [0. 2.]\n",
            " [1. 3.]\n",
            " [0. 1.]\n",
            " [0. 3.]]\n",
            "\n",
            "[array(['F', 'M'], dtype=object), array(['A', 'AB', 'B', 'O'], dtype=object)]\n",
            "\n",
            "[['M' 'O']\n",
            " ['M' 'A']\n",
            " ['M' 'A']\n",
            " ['F' 'B']\n",
            " ['M' 'O']\n",
            " ['F' 'AB']\n",
            " ['F' 'O']]\n"
          ],
          "name": "stdout"
        }
      ]
    },
    {
      "cell_type": "markdown",
      "metadata": {
        "id": "c1-LcqUx5OUy"
      },
      "source": [
        "We can see that the sex become 0,1 and blood 0,1,2,3 \n",
        "\n"
      ]
    },
    {
      "cell_type": "markdown",
      "metadata": {
        "id": "olt_ULRBBXoy"
      },
      "source": [
        "## E.x 3 (LabelEncoder)"
      ]
    },
    {
      "cell_type": "code",
      "metadata": {
        "colab": {
          "base_uri": "https://localhost:8080/"
        },
        "id": "71ALhCov4bqG",
        "outputId": "d7b0dff2-3119-4633-c1f3-ebe0402a25be"
      },
      "source": [
        "# LabelEncoder Encode target labels with value between 0 and n_classes-1.\n",
        "# ordinal encode target variable\n",
        "label_encoder = LabelEncoder()\n",
        "y = label_encoder.fit_transform(df['Success'])\n",
        "print(y)\n",
        "print(label_encoder.classes_)\n",
        "print(label_encoder.inverse_transform(y))"
      ],
      "execution_count": 78,
      "outputs": [
        {
          "output_type": "stream",
          "text": [
            "[1 0 0 1 0 1 1]\n",
            "['no' 'yes']\n",
            "['yes' 'no' 'no' 'yes' 'no' 'yes' 'yes']\n"
          ],
          "name": "stdout"
        }
      ]
    },
    {
      "cell_type": "markdown",
      "metadata": {
        "id": "OBQiqjO3Ckq-"
      },
      "source": [
        "## E.x 4(LabelBinarizer) One vs All"
      ]
    },
    {
      "cell_type": "code",
      "metadata": {
        "colab": {
          "base_uri": "https://localhost:8080/"
        },
        "id": "XmnF39pl671e",
        "outputId": "03094980-7623-4b38-de4c-18b1fcbe2adb"
      },
      "source": [
        "label_binarizer = LabelBinarizer()\n",
        "y = label_binarizer.fit_transform(df['MultiLabel'])\n",
        "print(y)\n",
        "print()\n",
        "print(label_binarizer.classes_)\n",
        "print()\n",
        "print(label_binarizer.inverse_transform(y))"
      ],
      "execution_count": 83,
      "outputs": [
        {
          "output_type": "stream",
          "text": [
            "[[1 0 0]\n",
            " [0 1 0]\n",
            " [0 0 1]\n",
            " [1 0 0]\n",
            " [0 1 0]\n",
            " [0 0 1]\n",
            " [1 0 0]]\n",
            "\n",
            "['High' 'Low' 'Medium']\n",
            "\n",
            "['High' 'Low' 'Medium' 'High' 'Low' 'Medium' 'High']\n"
          ],
          "name": "stdout"
        }
      ]
    },
    {
      "cell_type": "markdown",
      "metadata": {
        "id": "BuLE4x59DiKW"
      },
      "source": [
        "## E.x 5(MultiLabelBinarizer) All vs All"
      ]
    },
    {
      "cell_type": "code",
      "metadata": {
        "id": "26OZY1SAG6k1"
      },
      "source": [
        "import numpy as np"
      ],
      "execution_count": 101,
      "outputs": []
    },
    {
      "cell_type": "code",
      "metadata": {
        "colab": {
          "base_uri": "https://localhost:8080/"
        },
        "id": "_w-j_ihWDmDH",
        "outputId": "4dad093c-e51d-495a-e9c9-1b185ef72623"
      },
      "source": [
        "multilabel_binarizer = MultiLabelBinarizer()\n",
        "Y = df.iloc[:, -2:]\n",
        "Y = np.array(Y)\n",
        "y = multilabel_binarizer.fit_transform(Y)\n",
        "print(y)\n",
        "print()\n",
        "print(multilabel_binarizer.classes_)\n",
        "print()\n",
        "print(multilabel_binarizer.inverse_transform(y))"
      ],
      "execution_count": 113,
      "outputs": [
        {
          "output_type": "stream",
          "text": [
            "[[1 0 0 0 1]\n",
            " [0 1 0 1 0]\n",
            " [0 0 1 1 0]\n",
            " [1 0 0 0 1]\n",
            " [0 1 0 1 0]\n",
            " [0 0 1 0 1]\n",
            " [1 0 0 0 1]]\n",
            "\n",
            "['High' 'Low' 'Medium' 'no' 'yes']\n",
            "\n",
            "[('High', 'yes'), ('Low', 'no'), ('Medium', 'no'), ('High', 'yes'), ('Low', 'no'), ('Medium', 'yes'), ('High', 'yes')]\n"
          ],
          "name": "stdout"
        }
      ]
    },
    {
      "cell_type": "markdown",
      "metadata": {
        "id": "P5_YM_oDtods"
      },
      "source": [
        "# One-Hot Encoding"
      ]
    },
    {
      "cell_type": "code",
      "metadata": {
        "id": "YTNihf1B8n3e"
      },
      "source": [
        "from sklearn.preprocessing import OneHotEncoder"
      ],
      "execution_count": 61,
      "outputs": []
    },
    {
      "cell_type": "markdown",
      "metadata": {
        "id": "QNJXEPG18Cya"
      },
      "source": [
        "## E.x 1"
      ]
    },
    {
      "cell_type": "code",
      "metadata": {
        "colab": {
          "base_uri": "https://localhost:8080/"
        },
        "id": "amgYYmPfu3W8",
        "outputId": "f8c1c39b-51ca-41f5-b3b7-0b84ee98c103"
      },
      "source": [
        "from numpy import asarray\n",
        "# define data\n",
        "data = asarray([['red'], ['green'], ['blue']])\n",
        "print(data)\n",
        "# define one hot encoding\n",
        "encoder = OneHotEncoder(sparse=False)\n",
        "# transform data\n",
        "onehot = encoder.fit_transform(data)\n",
        "print(onehot)"
      ],
      "execution_count": 2,
      "outputs": [
        {
          "output_type": "stream",
          "text": [
            "[['red']\n",
            " ['green']\n",
            " ['blue']]\n",
            "[[0. 0. 1.]\n",
            " [0. 1. 0.]\n",
            " [1. 0. 0.]]\n"
          ],
          "name": "stdout"
        }
      ]
    },
    {
      "cell_type": "markdown",
      "metadata": {
        "id": "Nlx86C7o8M3n"
      },
      "source": [
        "## E.x 2"
      ]
    },
    {
      "cell_type": "code",
      "metadata": {
        "colab": {
          "base_uri": "https://localhost:8080/",
          "height": 266
        },
        "id": "NL7rTAwx89Zm",
        "outputId": "b3e24bdd-a613-40bf-e5d7-e620bc21e367"
      },
      "source": [
        "df"
      ],
      "execution_count": 62,
      "outputs": [
        {
          "output_type": "execute_result",
          "data": {
            "text/html": [
              "<div>\n",
              "<style scoped>\n",
              "    .dataframe tbody tr th:only-of-type {\n",
              "        vertical-align: middle;\n",
              "    }\n",
              "\n",
              "    .dataframe tbody tr th {\n",
              "        vertical-align: top;\n",
              "    }\n",
              "\n",
              "    .dataframe thead th {\n",
              "        text-align: right;\n",
              "    }\n",
              "</style>\n",
              "<table border=\"1\" class=\"dataframe\">\n",
              "  <thead>\n",
              "    <tr style=\"text-align: right;\">\n",
              "      <th></th>\n",
              "      <th>No</th>\n",
              "      <th>Name</th>\n",
              "      <th>Sex</th>\n",
              "      <th>Blood</th>\n",
              "      <th>Grade</th>\n",
              "      <th>Height</th>\n",
              "      <th>Study</th>\n",
              "      <th>Success</th>\n",
              "    </tr>\n",
              "  </thead>\n",
              "  <tbody>\n",
              "    <tr>\n",
              "      <th>0</th>\n",
              "      <td>1</td>\n",
              "      <td>Tom</td>\n",
              "      <td>M</td>\n",
              "      <td>O</td>\n",
              "      <td>56</td>\n",
              "      <td>160</td>\n",
              "      <td>Math</td>\n",
              "      <td>yes</td>\n",
              "    </tr>\n",
              "    <tr>\n",
              "      <th>1</th>\n",
              "      <td>2</td>\n",
              "      <td>Harry</td>\n",
              "      <td>M</td>\n",
              "      <td>A</td>\n",
              "      <td>76</td>\n",
              "      <td>192</td>\n",
              "      <td>Math</td>\n",
              "      <td>no</td>\n",
              "    </tr>\n",
              "    <tr>\n",
              "      <th>2</th>\n",
              "      <td>3</td>\n",
              "      <td>John</td>\n",
              "      <td>M</td>\n",
              "      <td>A</td>\n",
              "      <td>45</td>\n",
              "      <td>178</td>\n",
              "      <td>English</td>\n",
              "      <td>no</td>\n",
              "    </tr>\n",
              "    <tr>\n",
              "      <th>3</th>\n",
              "      <td>4</td>\n",
              "      <td>Nancy</td>\n",
              "      <td>F</td>\n",
              "      <td>B</td>\n",
              "      <td>78</td>\n",
              "      <td>157</td>\n",
              "      <td>Biology</td>\n",
              "      <td>yes</td>\n",
              "    </tr>\n",
              "    <tr>\n",
              "      <th>4</th>\n",
              "      <td>5</td>\n",
              "      <td>Mike</td>\n",
              "      <td>M</td>\n",
              "      <td>O</td>\n",
              "      <td>79</td>\n",
              "      <td>167</td>\n",
              "      <td>Math</td>\n",
              "      <td>no</td>\n",
              "    </tr>\n",
              "    <tr>\n",
              "      <th>5</th>\n",
              "      <td>6</td>\n",
              "      <td>Kate</td>\n",
              "      <td>F</td>\n",
              "      <td>AB</td>\n",
              "      <td>66</td>\n",
              "      <td>156</td>\n",
              "      <td>English</td>\n",
              "      <td>yes</td>\n",
              "    </tr>\n",
              "    <tr>\n",
              "      <th>6</th>\n",
              "      <td>7</td>\n",
              "      <td>Mary</td>\n",
              "      <td>F</td>\n",
              "      <td>O</td>\n",
              "      <td>99</td>\n",
              "      <td>166</td>\n",
              "      <td>Science</td>\n",
              "      <td>yes</td>\n",
              "    </tr>\n",
              "  </tbody>\n",
              "</table>\n",
              "</div>"
            ],
            "text/plain": [
              "   No   Name Sex Blood  Grade  Height    Study Success\n",
              "0   1    Tom   M     O     56     160     Math     yes\n",
              "1   2  Harry   M     A     76     192     Math      no\n",
              "2   3   John   M     A     45     178  English      no\n",
              "3   4  Nancy   F     B     78     157  Biology     yes\n",
              "4   5   Mike   M     O     79     167     Math      no\n",
              "5   6   Kate   F    AB     66     156  English     yes\n",
              "6   7   Mary   F     O     99     166  Science     yes"
            ]
          },
          "metadata": {
            "tags": []
          },
          "execution_count": 62
        }
      ]
    },
    {
      "cell_type": "code",
      "metadata": {
        "colab": {
          "base_uri": "https://localhost:8080/"
        },
        "id": "gCYANOV18hlv",
        "outputId": "14e17944-a70a-4dee-caec-b82cc7a79d7b"
      },
      "source": [
        "encoder = OneHotEncoder(sparse=False)\n",
        "X = encoder.fit_transform(df[['Blood']])\n",
        "print(X)\n",
        "print()\n",
        "print(encoder.categories_)\n",
        "print()\n",
        "print(encoder.inverse_transform(X))"
      ],
      "execution_count": 66,
      "outputs": [
        {
          "output_type": "stream",
          "text": [
            "[[0. 0. 0. 1.]\n",
            " [1. 0. 0. 0.]\n",
            " [1. 0. 0. 0.]\n",
            " [0. 0. 1. 0.]\n",
            " [0. 0. 0. 1.]\n",
            " [0. 1. 0. 0.]\n",
            " [0. 0. 0. 1.]]\n",
            "\n",
            "[array(['A', 'AB', 'B', 'O'], dtype=object)]\n",
            "\n",
            "[['O']\n",
            " ['A']\n",
            " ['A']\n",
            " ['B']\n",
            " ['O']\n",
            " ['AB']\n",
            " ['O']]\n"
          ],
          "name": "stdout"
        }
      ]
    },
    {
      "cell_type": "markdown",
      "metadata": {
        "id": "c580XFHz_CQs"
      },
      "source": [
        "## E.x 3"
      ]
    },
    {
      "cell_type": "code",
      "metadata": {
        "colab": {
          "base_uri": "https://localhost:8080/",
          "height": 266
        },
        "id": "3wblXTGm_Dq6",
        "outputId": "4084d69b-d269-48d3-847a-ef16162a0adb"
      },
      "source": [
        "pd.get_dummies(df['Blood'],)"
      ],
      "execution_count": 73,
      "outputs": [
        {
          "output_type": "execute_result",
          "data": {
            "text/html": [
              "<div>\n",
              "<style scoped>\n",
              "    .dataframe tbody tr th:only-of-type {\n",
              "        vertical-align: middle;\n",
              "    }\n",
              "\n",
              "    .dataframe tbody tr th {\n",
              "        vertical-align: top;\n",
              "    }\n",
              "\n",
              "    .dataframe thead th {\n",
              "        text-align: right;\n",
              "    }\n",
              "</style>\n",
              "<table border=\"1\" class=\"dataframe\">\n",
              "  <thead>\n",
              "    <tr style=\"text-align: right;\">\n",
              "      <th></th>\n",
              "      <th>A</th>\n",
              "      <th>AB</th>\n",
              "      <th>B</th>\n",
              "      <th>O</th>\n",
              "    </tr>\n",
              "  </thead>\n",
              "  <tbody>\n",
              "    <tr>\n",
              "      <th>0</th>\n",
              "      <td>0</td>\n",
              "      <td>0</td>\n",
              "      <td>0</td>\n",
              "      <td>1</td>\n",
              "    </tr>\n",
              "    <tr>\n",
              "      <th>1</th>\n",
              "      <td>1</td>\n",
              "      <td>0</td>\n",
              "      <td>0</td>\n",
              "      <td>0</td>\n",
              "    </tr>\n",
              "    <tr>\n",
              "      <th>2</th>\n",
              "      <td>1</td>\n",
              "      <td>0</td>\n",
              "      <td>0</td>\n",
              "      <td>0</td>\n",
              "    </tr>\n",
              "    <tr>\n",
              "      <th>3</th>\n",
              "      <td>0</td>\n",
              "      <td>0</td>\n",
              "      <td>1</td>\n",
              "      <td>0</td>\n",
              "    </tr>\n",
              "    <tr>\n",
              "      <th>4</th>\n",
              "      <td>0</td>\n",
              "      <td>0</td>\n",
              "      <td>0</td>\n",
              "      <td>1</td>\n",
              "    </tr>\n",
              "    <tr>\n",
              "      <th>5</th>\n",
              "      <td>0</td>\n",
              "      <td>1</td>\n",
              "      <td>0</td>\n",
              "      <td>0</td>\n",
              "    </tr>\n",
              "    <tr>\n",
              "      <th>6</th>\n",
              "      <td>0</td>\n",
              "      <td>0</td>\n",
              "      <td>0</td>\n",
              "      <td>1</td>\n",
              "    </tr>\n",
              "  </tbody>\n",
              "</table>\n",
              "</div>"
            ],
            "text/plain": [
              "   A  AB  B  O\n",
              "0  0   0  0  1\n",
              "1  1   0  0  0\n",
              "2  1   0  0  0\n",
              "3  0   0  1  0\n",
              "4  0   0  0  1\n",
              "5  0   1  0  0\n",
              "6  0   0  0  1"
            ]
          },
          "metadata": {
            "tags": []
          },
          "execution_count": 73
        }
      ]
    },
    {
      "cell_type": "markdown",
      "metadata": {
        "id": "TOXyfbQhwETm"
      },
      "source": [
        "# Dummy variable encoding"
      ]
    },
    {
      "cell_type": "code",
      "metadata": {
        "id": "yuIzs2Bm965w"
      },
      "source": [
        "from sklearn.preprocessing import OneHotEncoder"
      ],
      "execution_count": 67,
      "outputs": []
    },
    {
      "cell_type": "markdown",
      "metadata": {
        "id": "KRYKm1Xi97t0"
      },
      "source": [
        "## E.x 1"
      ]
    },
    {
      "cell_type": "code",
      "metadata": {
        "colab": {
          "base_uri": "https://localhost:8080/"
        },
        "id": "5AatAVuuu8Vq",
        "outputId": "40f74edc-5e96-4137-d5ef-da0b73c8c869"
      },
      "source": [
        "# example of a dummy variable encoding\n",
        "from numpy import asarray\n",
        "# define data\n",
        "data = asarray([['red'], ['green'], ['blue']])\n",
        "print(data)\n",
        "# define one hot encoding\n",
        "encoder = OneHotEncoder(drop='first', sparse=False)\n",
        "# transform data\n",
        "onehot = encoder.fit_transform(data)\n",
        "print(onehot)"
      ],
      "execution_count": 3,
      "outputs": [
        {
          "output_type": "stream",
          "text": [
            "[['red']\n",
            " ['green']\n",
            " ['blue']]\n",
            "[[0. 1.]\n",
            " [1. 0.]\n",
            " [0. 0.]]\n"
          ],
          "name": "stdout"
        }
      ]
    },
    {
      "cell_type": "markdown",
      "metadata": {
        "id": "kQBKKPJ_zGrn"
      },
      "source": [
        "## E.x 2"
      ]
    },
    {
      "cell_type": "code",
      "metadata": {
        "colab": {
          "base_uri": "https://localhost:8080/",
          "height": 266
        },
        "id": "_AA8lgYD-CwL",
        "outputId": "3faf1388-ebd6-4e8f-8ff9-d465e8dae6fc"
      },
      "source": [
        "df"
      ],
      "execution_count": 68,
      "outputs": [
        {
          "output_type": "execute_result",
          "data": {
            "text/html": [
              "<div>\n",
              "<style scoped>\n",
              "    .dataframe tbody tr th:only-of-type {\n",
              "        vertical-align: middle;\n",
              "    }\n",
              "\n",
              "    .dataframe tbody tr th {\n",
              "        vertical-align: top;\n",
              "    }\n",
              "\n",
              "    .dataframe thead th {\n",
              "        text-align: right;\n",
              "    }\n",
              "</style>\n",
              "<table border=\"1\" class=\"dataframe\">\n",
              "  <thead>\n",
              "    <tr style=\"text-align: right;\">\n",
              "      <th></th>\n",
              "      <th>No</th>\n",
              "      <th>Name</th>\n",
              "      <th>Sex</th>\n",
              "      <th>Blood</th>\n",
              "      <th>Grade</th>\n",
              "      <th>Height</th>\n",
              "      <th>Study</th>\n",
              "      <th>Success</th>\n",
              "    </tr>\n",
              "  </thead>\n",
              "  <tbody>\n",
              "    <tr>\n",
              "      <th>0</th>\n",
              "      <td>1</td>\n",
              "      <td>Tom</td>\n",
              "      <td>M</td>\n",
              "      <td>O</td>\n",
              "      <td>56</td>\n",
              "      <td>160</td>\n",
              "      <td>Math</td>\n",
              "      <td>yes</td>\n",
              "    </tr>\n",
              "    <tr>\n",
              "      <th>1</th>\n",
              "      <td>2</td>\n",
              "      <td>Harry</td>\n",
              "      <td>M</td>\n",
              "      <td>A</td>\n",
              "      <td>76</td>\n",
              "      <td>192</td>\n",
              "      <td>Math</td>\n",
              "      <td>no</td>\n",
              "    </tr>\n",
              "    <tr>\n",
              "      <th>2</th>\n",
              "      <td>3</td>\n",
              "      <td>John</td>\n",
              "      <td>M</td>\n",
              "      <td>A</td>\n",
              "      <td>45</td>\n",
              "      <td>178</td>\n",
              "      <td>English</td>\n",
              "      <td>no</td>\n",
              "    </tr>\n",
              "    <tr>\n",
              "      <th>3</th>\n",
              "      <td>4</td>\n",
              "      <td>Nancy</td>\n",
              "      <td>F</td>\n",
              "      <td>B</td>\n",
              "      <td>78</td>\n",
              "      <td>157</td>\n",
              "      <td>Biology</td>\n",
              "      <td>yes</td>\n",
              "    </tr>\n",
              "    <tr>\n",
              "      <th>4</th>\n",
              "      <td>5</td>\n",
              "      <td>Mike</td>\n",
              "      <td>M</td>\n",
              "      <td>O</td>\n",
              "      <td>79</td>\n",
              "      <td>167</td>\n",
              "      <td>Math</td>\n",
              "      <td>no</td>\n",
              "    </tr>\n",
              "    <tr>\n",
              "      <th>5</th>\n",
              "      <td>6</td>\n",
              "      <td>Kate</td>\n",
              "      <td>F</td>\n",
              "      <td>AB</td>\n",
              "      <td>66</td>\n",
              "      <td>156</td>\n",
              "      <td>English</td>\n",
              "      <td>yes</td>\n",
              "    </tr>\n",
              "    <tr>\n",
              "      <th>6</th>\n",
              "      <td>7</td>\n",
              "      <td>Mary</td>\n",
              "      <td>F</td>\n",
              "      <td>O</td>\n",
              "      <td>99</td>\n",
              "      <td>166</td>\n",
              "      <td>Science</td>\n",
              "      <td>yes</td>\n",
              "    </tr>\n",
              "  </tbody>\n",
              "</table>\n",
              "</div>"
            ],
            "text/plain": [
              "   No   Name Sex Blood  Grade  Height    Study Success\n",
              "0   1    Tom   M     O     56     160     Math     yes\n",
              "1   2  Harry   M     A     76     192     Math      no\n",
              "2   3   John   M     A     45     178  English      no\n",
              "3   4  Nancy   F     B     78     157  Biology     yes\n",
              "4   5   Mike   M     O     79     167     Math      no\n",
              "5   6   Kate   F    AB     66     156  English     yes\n",
              "6   7   Mary   F     O     99     166  Science     yes"
            ]
          },
          "metadata": {
            "tags": []
          },
          "execution_count": 68
        }
      ]
    },
    {
      "cell_type": "code",
      "metadata": {
        "colab": {
          "base_uri": "https://localhost:8080/"
        },
        "id": "STw0rqd5-EPg",
        "outputId": "13e6c68b-0f26-4cd0-9b65-7df2cf69d27c"
      },
      "source": [
        "encoder = OneHotEncoder(drop='first', sparse=False)\n",
        "X = encoder.fit_transform(df[['Blood']])\n",
        "print(X)\n",
        "print()\n",
        "print(encoder.categories_)\n",
        "print()\n",
        "print(encoder.inverse_transform(X))"
      ],
      "execution_count": 70,
      "outputs": [
        {
          "output_type": "stream",
          "text": [
            "[[0. 0. 1.]\n",
            " [0. 0. 0.]\n",
            " [0. 0. 0.]\n",
            " [0. 1. 0.]\n",
            " [0. 0. 1.]\n",
            " [1. 0. 0.]\n",
            " [0. 0. 1.]]\n",
            "\n",
            "[array(['A', 'AB', 'B', 'O'], dtype=object)]\n",
            "\n",
            "[['O']\n",
            " ['A']\n",
            " ['A']\n",
            " ['B']\n",
            " ['O']\n",
            " ['AB']\n",
            " ['O']]\n"
          ],
          "name": "stdout"
        }
      ]
    },
    {
      "cell_type": "markdown",
      "metadata": {
        "id": "q8wnb_hb-0HM"
      },
      "source": [
        "## E.x 3"
      ]
    },
    {
      "cell_type": "code",
      "metadata": {
        "colab": {
          "base_uri": "https://localhost:8080/",
          "height": 266
        },
        "id": "7IXrL0it-2AC",
        "outputId": "4bd0a7b0-c5c3-4674-ed15-338161e795fc"
      },
      "source": [
        "pd.get_dummies(df['Blood'], drop_first=True)"
      ],
      "execution_count": 72,
      "outputs": [
        {
          "output_type": "execute_result",
          "data": {
            "text/html": [
              "<div>\n",
              "<style scoped>\n",
              "    .dataframe tbody tr th:only-of-type {\n",
              "        vertical-align: middle;\n",
              "    }\n",
              "\n",
              "    .dataframe tbody tr th {\n",
              "        vertical-align: top;\n",
              "    }\n",
              "\n",
              "    .dataframe thead th {\n",
              "        text-align: right;\n",
              "    }\n",
              "</style>\n",
              "<table border=\"1\" class=\"dataframe\">\n",
              "  <thead>\n",
              "    <tr style=\"text-align: right;\">\n",
              "      <th></th>\n",
              "      <th>AB</th>\n",
              "      <th>B</th>\n",
              "      <th>O</th>\n",
              "    </tr>\n",
              "  </thead>\n",
              "  <tbody>\n",
              "    <tr>\n",
              "      <th>0</th>\n",
              "      <td>0</td>\n",
              "      <td>0</td>\n",
              "      <td>1</td>\n",
              "    </tr>\n",
              "    <tr>\n",
              "      <th>1</th>\n",
              "      <td>0</td>\n",
              "      <td>0</td>\n",
              "      <td>0</td>\n",
              "    </tr>\n",
              "    <tr>\n",
              "      <th>2</th>\n",
              "      <td>0</td>\n",
              "      <td>0</td>\n",
              "      <td>0</td>\n",
              "    </tr>\n",
              "    <tr>\n",
              "      <th>3</th>\n",
              "      <td>0</td>\n",
              "      <td>1</td>\n",
              "      <td>0</td>\n",
              "    </tr>\n",
              "    <tr>\n",
              "      <th>4</th>\n",
              "      <td>0</td>\n",
              "      <td>0</td>\n",
              "      <td>1</td>\n",
              "    </tr>\n",
              "    <tr>\n",
              "      <th>5</th>\n",
              "      <td>1</td>\n",
              "      <td>0</td>\n",
              "      <td>0</td>\n",
              "    </tr>\n",
              "    <tr>\n",
              "      <th>6</th>\n",
              "      <td>0</td>\n",
              "      <td>0</td>\n",
              "      <td>1</td>\n",
              "    </tr>\n",
              "  </tbody>\n",
              "</table>\n",
              "</div>"
            ],
            "text/plain": [
              "   AB  B  O\n",
              "0   0  0  1\n",
              "1   0  0  0\n",
              "2   0  0  0\n",
              "3   0  1  0\n",
              "4   0  0  1\n",
              "5   1  0  0\n",
              "6   0  0  1"
            ]
          },
          "metadata": {
            "tags": []
          },
          "execution_count": 72
        }
      ]
    },
    {
      "cell_type": "markdown",
      "metadata": {
        "id": "Q4dHYexN_H28"
      },
      "source": [
        "## E.x 4"
      ]
    },
    {
      "cell_type": "code",
      "metadata": {
        "id": "XaIWMV1izIi1"
      },
      "source": [
        "pd.get_dummies(x)\n",
        "for col in  cat_cols:\n",
        "        try:\n",
        "            # for each cat add dummy var, drop original column\n",
        "            df = pd.concat([df.drop(col, axis=1), pd.get_dummies(df[col], prefix=col, \n",
        "                                                                 prefix_sep='_', drop_first=True, \n",
        "                                                                 dummy_na=True)], axis=1)\n",
        "        except:\n",
        "            continue\n",
        "    return df\n",
        "\n",
        "''' \n",
        "dummy_na: Add a column to indicate NaNs, if False NaNs are ignored.\t\n",
        "\n",
        "'''"
      ],
      "execution_count": null,
      "outputs": []
    }
  ]
}